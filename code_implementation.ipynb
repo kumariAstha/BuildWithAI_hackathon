{
 "cells": [
  {
   "cell_type": "code",
   "execution_count": 1,
   "metadata": {
    "ExecuteTime": {
     "end_time": "2021-11-02T08:56:38.493213Z",
     "start_time": "2021-11-02T08:56:35.462460Z"
    },
    "id": "aIklix-QsiYU"
   },
   "outputs": [],
   "source": [
    "import pandas as pd\n",
    "import numpy as np\n",
    "import seaborn as sns\n",
    "import matplotlib.pyplot as plt\n",
    "import warnings \n",
    "warnings.filterwarnings( \"ignore\")\n",
    "\n",
    "# Preprocessing Required imports\n",
    "from scipy.stats import zscore\n",
    "from sklearn import preprocessing\n",
    "from sklearn.model_selection import train_test_split\n",
    "\n",
    "# Model Imports\n",
    "from sklearn.linear_model import LogisticRegression\n",
    "from sklearn.discriminant_analysis import LinearDiscriminantAnalysis\n",
    "from sklearn.model_selection import GridSearchCV\n",
    "from sklearn.neighbors import KNeighborsClassifier\n",
    "from sklearn.naive_bayes import GaussianNB\n",
    "from sklearn.ensemble import RandomForestClassifier\n",
    "from sklearn.ensemble import AdaBoostClassifier\n",
    "from sklearn.ensemble import BaggingClassifier\n",
    "\n",
    "# Accuracy and Performance Metric Imports\n",
    "from sklearn import metrics\n",
    "from sklearn.metrics import accuracy_score\n",
    "from sklearn.metrics import roc_auc_score,roc_curve,classification_report,confusion_matrix,plot_confusion_matrix"
   ]
  },
  {
   "cell_type": "code",
   "execution_count": 2,
   "metadata": {
    "ExecuteTime": {
     "end_time": "2021-11-02T08:56:42.742153Z",
     "start_time": "2021-11-02T08:56:38.883121Z"
    },
    "colab": {
     "base_uri": "https://localhost:8080/",
     "height": 1000
    },
    "id": "J55FSY0wLSDL",
    "outputId": "f9c5df66-b6c2-43e6-fcd6-56f67ff64e99"
   },
   "outputs": [
    {
     "name": "stdout",
     "output_type": "stream",
     "text": [
      "Requirement already satisfied: pandas-profiling==2.7.1 in c:\\users\\hp\\anaconda3\\lib\\site-packages (2.7.1)\n",
      "Requirement already satisfied: tqdm>=4.43.0 in c:\\users\\hp\\anaconda3\\lib\\site-packages (from pandas-profiling==2.7.1) (4.50.2)\n",
      "Requirement already satisfied: tangled-up-in-unicode>=0.0.4 in c:\\users\\hp\\anaconda3\\lib\\site-packages (from pandas-profiling==2.7.1) (0.2.0)\n",
      "Requirement already satisfied: numpy>=1.16.0 in c:\\users\\hp\\anaconda3\\lib\\site-packages (from pandas-profiling==2.7.1) (1.19.2)\n",
      "Requirement already satisfied: astropy>=4.0 in c:\\users\\hp\\anaconda3\\lib\\site-packages (from pandas-profiling==2.7.1) (4.0.2)\n",
      "Requirement already satisfied: requests>=2.23.0 in c:\\users\\hp\\anaconda3\\lib\\site-packages (from pandas-profiling==2.7.1) (2.24.0)\n",
      "Requirement already satisfied: htmlmin>=0.1.12 in c:\\users\\hp\\anaconda3\\lib\\site-packages (from pandas-profiling==2.7.1) (0.1.12)\n",
      "Requirement already satisfied: confuse>=1.0.0 in c:\\users\\hp\\anaconda3\\lib\\site-packages (from pandas-profiling==2.7.1) (1.6.0)\n",
      "Requirement already satisfied: pandas!=1.0.0,!=1.0.1,!=1.0.2,>=0.25.3 in c:\\users\\hp\\anaconda3\\lib\\site-packages (from pandas-profiling==2.7.1) (1.1.3)\n",
      "Requirement already satisfied: scipy>=1.4.1 in c:\\users\\hp\\anaconda3\\lib\\site-packages (from pandas-profiling==2.7.1) (1.5.2)\n",
      "Requirement already satisfied: joblib in c:\\users\\hp\\anaconda3\\lib\\site-packages (from pandas-profiling==2.7.1) (0.17.0)\n",
      "Requirement already satisfied: phik>=0.9.10 in c:\\users\\hp\\anaconda3\\lib\\site-packages (from pandas-profiling==2.7.1) (0.12.0)\n",
      "Requirement already satisfied: jinja2>=2.11.1 in c:\\users\\hp\\anaconda3\\lib\\site-packages (from pandas-profiling==2.7.1) (2.11.2)\n",
      "Requirement already satisfied: visions[type_image_path]==0.4.1 in c:\\users\\hp\\anaconda3\\lib\\site-packages (from pandas-profiling==2.7.1) (0.4.1)\n",
      "Requirement already satisfied: missingno>=0.4.2 in c:\\users\\hp\\anaconda3\\lib\\site-packages (from pandas-profiling==2.7.1) (0.5.0)\n",
      "Requirement already satisfied: ipywidgets>=7.5.1 in c:\\users\\hp\\anaconda3\\lib\\site-packages (from pandas-profiling==2.7.1) (7.5.1)\n",
      "Requirement already satisfied: matplotlib>=3.2.0 in c:\\users\\hp\\anaconda3\\lib\\site-packages (from pandas-profiling==2.7.1) (3.3.2)\n",
      "Requirement already satisfied: idna<3,>=2.5 in c:\\users\\hp\\anaconda3\\lib\\site-packages (from requests>=2.23.0->pandas-profiling==2.7.1) (2.10)\n",
      "Requirement already satisfied: urllib3!=1.25.0,!=1.25.1,<1.26,>=1.21.1 in c:\\users\\hp\\anaconda3\\lib\\site-packages (from requests>=2.23.0->pandas-profiling==2.7.1) (1.25.11)\n",
      "Requirement already satisfied: certifi>=2017.4.17 in c:\\users\\hp\\anaconda3\\lib\\site-packages (from requests>=2.23.0->pandas-profiling==2.7.1) (2020.6.20)\n",
      "Requirement already satisfied: chardet<4,>=3.0.2 in c:\\users\\hp\\anaconda3\\lib\\site-packages (from requests>=2.23.0->pandas-profiling==2.7.1) (3.0.4)\n",
      "Requirement already satisfied: pyyaml in c:\\users\\hp\\anaconda3\\lib\\site-packages (from confuse>=1.0.0->pandas-profiling==2.7.1) (5.3.1)\n",
      "Requirement already satisfied: python-dateutil>=2.7.3 in c:\\users\\hp\\anaconda3\\lib\\site-packages (from pandas!=1.0.0,!=1.0.1,!=1.0.2,>=0.25.3->pandas-profiling==2.7.1) (2.8.1)\n",
      "Requirement already satisfied: pytz>=2017.2 in c:\\users\\hp\\anaconda3\\lib\\site-packages (from pandas!=1.0.0,!=1.0.1,!=1.0.2,>=0.25.3->pandas-profiling==2.7.1) (2020.1)\n",
      "Requirement already satisfied: MarkupSafe>=0.23 in c:\\users\\hp\\anaconda3\\lib\\site-packages (from jinja2>=2.11.1->pandas-profiling==2.7.1) (1.1.1)\n",
      "Requirement already satisfied: attrs>=19.3.0 in c:\\users\\hp\\anaconda3\\lib\\site-packages (from visions[type_image_path]==0.4.1->pandas-profiling==2.7.1) (20.3.0)\n",
      "Requirement already satisfied: networkx>=2.4 in c:\\users\\hp\\anaconda3\\lib\\site-packages (from visions[type_image_path]==0.4.1->pandas-profiling==2.7.1) (2.5)\n",
      "Requirement already satisfied: imagehash; extra == \"type_image_path\" in c:\\users\\hp\\anaconda3\\lib\\site-packages (from visions[type_image_path]==0.4.1->pandas-profiling==2.7.1) (4.2.1)\n",
      "Requirement already satisfied: Pillow; extra == \"type_image_path\" in c:\\users\\hp\\anaconda3\\lib\\site-packages (from visions[type_image_path]==0.4.1->pandas-profiling==2.7.1) (8.0.1)\n",
      "Requirement already satisfied: seaborn in c:\\users\\hp\\anaconda3\\lib\\site-packages (from missingno>=0.4.2->pandas-profiling==2.7.1) (0.11.0)\n",
      "Requirement already satisfied: ipykernel>=4.5.1 in c:\\users\\hp\\anaconda3\\lib\\site-packages (from ipywidgets>=7.5.1->pandas-profiling==2.7.1) (5.5.4)\n",
      "Requirement already satisfied: ipython>=4.0.0; python_version >= \"3.3\" in c:\\users\\hp\\anaconda3\\lib\\site-packages (from ipywidgets>=7.5.1->pandas-profiling==2.7.1) (7.19.0)\n",
      "Requirement already satisfied: traitlets>=4.3.1 in c:\\users\\hp\\anaconda3\\lib\\site-packages (from ipywidgets>=7.5.1->pandas-profiling==2.7.1) (5.0.5)\n",
      "Requirement already satisfied: widgetsnbextension~=3.5.0 in c:\\users\\hp\\anaconda3\\lib\\site-packages (from ipywidgets>=7.5.1->pandas-profiling==2.7.1) (3.5.1)\n",
      "Requirement already satisfied: nbformat>=4.2.0 in c:\\users\\hp\\anaconda3\\lib\\site-packages (from ipywidgets>=7.5.1->pandas-profiling==2.7.1) (5.0.8)\n",
      "Requirement already satisfied: kiwisolver>=1.0.1 in c:\\users\\hp\\anaconda3\\lib\\site-packages (from matplotlib>=3.2.0->pandas-profiling==2.7.1) (1.3.0)\n",
      "Requirement already satisfied: pyparsing!=2.0.4,!=2.1.2,!=2.1.6,>=2.0.3 in c:\\users\\hp\\anaconda3\\lib\\site-packages (from matplotlib>=3.2.0->pandas-profiling==2.7.1) (2.4.7)\n",
      "Requirement already satisfied: cycler>=0.10 in c:\\users\\hp\\anaconda3\\lib\\site-packages (from matplotlib>=3.2.0->pandas-profiling==2.7.1) (0.10.0)\n",
      "Requirement already satisfied: six>=1.5 in c:\\users\\hp\\anaconda3\\lib\\site-packages (from python-dateutil>=2.7.3->pandas!=1.0.0,!=1.0.1,!=1.0.2,>=0.25.3->pandas-profiling==2.7.1) (1.15.0)\n",
      "Requirement already satisfied: decorator>=4.3.0 in c:\\users\\hp\\anaconda3\\lib\\site-packages (from networkx>=2.4->visions[type_image_path]==0.4.1->pandas-profiling==2.7.1) (4.4.2)\n",
      "Requirement already satisfied: PyWavelets in c:\\users\\hp\\anaconda3\\lib\\site-packages (from imagehash; extra == \"type_image_path\"->visions[type_image_path]==0.4.1->pandas-profiling==2.7.1) (1.1.1)\n",
      "Requirement already satisfied: tornado>=4.2 in c:\\users\\hp\\anaconda3\\lib\\site-packages (from ipykernel>=4.5.1->ipywidgets>=7.5.1->pandas-profiling==2.7.1) (6.1)\n",
      "Requirement already satisfied: jupyter-client in c:\\users\\hp\\anaconda3\\lib\\site-packages (from ipykernel>=4.5.1->ipywidgets>=7.5.1->pandas-profiling==2.7.1) (6.1.7)\n",
      "Requirement already satisfied: backcall in c:\\users\\hp\\anaconda3\\lib\\site-packages (from ipython>=4.0.0; python_version >= \"3.3\"->ipywidgets>=7.5.1->pandas-profiling==2.7.1) (0.2.0)\n",
      "Requirement already satisfied: pygments in c:\\users\\hp\\anaconda3\\lib\\site-packages (from ipython>=4.0.0; python_version >= \"3.3\"->ipywidgets>=7.5.1->pandas-profiling==2.7.1) (2.7.2)\n",
      "Requirement already satisfied: setuptools>=18.5 in c:\\users\\hp\\anaconda3\\lib\\site-packages (from ipython>=4.0.0; python_version >= \"3.3\"->ipywidgets>=7.5.1->pandas-profiling==2.7.1) (50.3.1.post20201107)\n",
      "Requirement already satisfied: colorama; sys_platform == \"win32\" in c:\\users\\hp\\anaconda3\\lib\\site-packages (from ipython>=4.0.0; python_version >= \"3.3\"->ipywidgets>=7.5.1->pandas-profiling==2.7.1) (0.4.4)\n",
      "Requirement already satisfied: prompt-toolkit!=3.0.0,!=3.0.1,<3.1.0,>=2.0.0 in c:\\users\\hp\\anaconda3\\lib\\site-packages (from ipython>=4.0.0; python_version >= \"3.3\"->ipywidgets>=7.5.1->pandas-profiling==2.7.1) (3.0.8)\n",
      "Requirement already satisfied: jedi>=0.10 in c:\\users\\hp\\anaconda3\\lib\\site-packages (from ipython>=4.0.0; python_version >= \"3.3\"->ipywidgets>=7.5.1->pandas-profiling==2.7.1) (0.17.1)\n",
      "Requirement already satisfied: pickleshare in c:\\users\\hp\\anaconda3\\lib\\site-packages (from ipython>=4.0.0; python_version >= \"3.3\"->ipywidgets>=7.5.1->pandas-profiling==2.7.1) (0.7.5)\n",
      "Requirement already satisfied: ipython-genutils in c:\\users\\hp\\anaconda3\\lib\\site-packages (from traitlets>=4.3.1->ipywidgets>=7.5.1->pandas-profiling==2.7.1) (0.2.0)\n",
      "Requirement already satisfied: notebook>=4.4.1 in c:\\users\\hp\\anaconda3\\lib\\site-packages (from widgetsnbextension~=3.5.0->ipywidgets>=7.5.1->pandas-profiling==2.7.1) (5.7.10)\n",
      "Requirement already satisfied: jsonschema!=2.5.0,>=2.4 in c:\\users\\hp\\anaconda3\\lib\\site-packages (from nbformat>=4.2.0->ipywidgets>=7.5.1->pandas-profiling==2.7.1) (3.2.0)\n",
      "Requirement already satisfied: jupyter-core in c:\\users\\hp\\anaconda3\\lib\\site-packages (from nbformat>=4.2.0->ipywidgets>=7.5.1->pandas-profiling==2.7.1) (4.6.3)\n",
      "Requirement already satisfied: pyzmq>=13 in c:\\users\\hp\\anaconda3\\lib\\site-packages (from jupyter-client->ipykernel>=4.5.1->ipywidgets>=7.5.1->pandas-profiling==2.7.1) (19.0.2)\n",
      "Requirement already satisfied: wcwidth in c:\\users\\hp\\anaconda3\\lib\\site-packages (from prompt-toolkit!=3.0.0,!=3.0.1,<3.1.0,>=2.0.0->ipython>=4.0.0; python_version >= \"3.3\"->ipywidgets>=7.5.1->pandas-profiling==2.7.1) (0.2.5)\n",
      "Requirement already satisfied: parso<0.8.0,>=0.7.0 in c:\\users\\hp\\anaconda3\\lib\\site-packages (from jedi>=0.10->ipython>=4.0.0; python_version >= \"3.3\"->ipywidgets>=7.5.1->pandas-profiling==2.7.1) (0.7.0)\n",
      "Requirement already satisfied: nbconvert<6.0 in c:\\users\\hp\\anaconda3\\lib\\site-packages (from notebook>=4.4.1->widgetsnbextension~=3.5.0->ipywidgets>=7.5.1->pandas-profiling==2.7.1) (5.6.1)\n",
      "Requirement already satisfied: prometheus-client in c:\\users\\hp\\anaconda3\\lib\\site-packages (from notebook>=4.4.1->widgetsnbextension~=3.5.0->ipywidgets>=7.5.1->pandas-profiling==2.7.1) (0.8.0)\n",
      "Requirement already satisfied: terminado>=0.8.1 in c:\\users\\hp\\anaconda3\\lib\\site-packages (from notebook>=4.4.1->widgetsnbextension~=3.5.0->ipywidgets>=7.5.1->pandas-profiling==2.7.1) (0.9.1)\n",
      "Requirement already satisfied: Send2Trash in c:\\users\\hp\\anaconda3\\lib\\site-packages (from notebook>=4.4.1->widgetsnbextension~=3.5.0->ipywidgets>=7.5.1->pandas-profiling==2.7.1) (1.5.0)\n",
      "Requirement already satisfied: pyrsistent>=0.14.0 in c:\\users\\hp\\anaconda3\\lib\\site-packages (from jsonschema!=2.5.0,>=2.4->nbformat>=4.2.0->ipywidgets>=7.5.1->pandas-profiling==2.7.1) (0.17.3)\n",
      "Requirement already satisfied: pywin32>=1.0; sys_platform == \"win32\" in c:\\users\\hp\\anaconda3\\lib\\site-packages (from jupyter-core->nbformat>=4.2.0->ipywidgets>=7.5.1->pandas-profiling==2.7.1) (227)\n",
      "Requirement already satisfied: testpath in c:\\users\\hp\\anaconda3\\lib\\site-packages (from nbconvert<6.0->notebook>=4.4.1->widgetsnbextension~=3.5.0->ipywidgets>=7.5.1->pandas-profiling==2.7.1) (0.4.4)\n",
      "Requirement already satisfied: pandocfilters>=1.4.1 in c:\\users\\hp\\anaconda3\\lib\\site-packages (from nbconvert<6.0->notebook>=4.4.1->widgetsnbextension~=3.5.0->ipywidgets>=7.5.1->pandas-profiling==2.7.1) (1.4.3)\n",
      "Requirement already satisfied: mistune<2,>=0.8.1 in c:\\users\\hp\\anaconda3\\lib\\site-packages (from nbconvert<6.0->notebook>=4.4.1->widgetsnbextension~=3.5.0->ipywidgets>=7.5.1->pandas-profiling==2.7.1) (0.8.4)\n",
      "Requirement already satisfied: bleach in c:\\users\\hp\\anaconda3\\lib\\site-packages (from nbconvert<6.0->notebook>=4.4.1->widgetsnbextension~=3.5.0->ipywidgets>=7.5.1->pandas-profiling==2.7.1) (3.2.1)\n",
      "Requirement already satisfied: defusedxml in c:\\users\\hp\\anaconda3\\lib\\site-packages (from nbconvert<6.0->notebook>=4.4.1->widgetsnbextension~=3.5.0->ipywidgets>=7.5.1->pandas-profiling==2.7.1) (0.6.0)\n",
      "Requirement already satisfied: entrypoints>=0.2.2 in c:\\users\\hp\\anaconda3\\lib\\site-packages (from nbconvert<6.0->notebook>=4.4.1->widgetsnbextension~=3.5.0->ipywidgets>=7.5.1->pandas-profiling==2.7.1) (0.3)\n",
      "Requirement already satisfied: pywinpty>=0.5 in c:\\users\\hp\\anaconda3\\lib\\site-packages (from terminado>=0.8.1->notebook>=4.4.1->widgetsnbextension~=3.5.0->ipywidgets>=7.5.1->pandas-profiling==2.7.1) (0.5.7)\n",
      "Requirement already satisfied: webencodings in c:\\users\\hp\\anaconda3\\lib\\site-packages (from bleach->nbconvert<6.0->notebook>=4.4.1->widgetsnbextension~=3.5.0->ipywidgets>=7.5.1->pandas-profiling==2.7.1) (0.5.1)\n",
      "Requirement already satisfied: packaging in c:\\users\\hp\\anaconda3\\lib\\site-packages (from bleach->nbconvert<6.0->notebook>=4.4.1->widgetsnbextension~=3.5.0->ipywidgets>=7.5.1->pandas-profiling==2.7.1) (20.4)\n"
     ]
    }
   ],
   "source": [
    "!pip install pandas-profiling==2.7.1"
   ]
  },
  {
   "cell_type": "code",
   "execution_count": 3,
   "metadata": {
    "ExecuteTime": {
     "end_time": "2021-11-02T08:56:42.820967Z",
     "start_time": "2021-11-02T08:56:42.776062Z"
    },
    "colab": {
     "base_uri": "https://localhost:8080/",
     "height": 374
    },
    "id": "6NKgWCcEsqCs",
    "outputId": "c484d81f-3abf-40de-f679-24ba23fc2ef7"
   },
   "outputs": [],
   "source": [
    "depression_dataset = pd.read_csv('data.csv')"
   ]
  },
  {
   "cell_type": "code",
   "execution_count": 4,
   "metadata": {
    "ExecuteTime": {
     "end_time": "2021-11-02T08:56:46.794725Z",
     "start_time": "2021-11-02T08:56:46.740944Z"
    },
    "id": "JJGuJB4oszDl"
   },
   "outputs": [],
   "source": [
    "depression_dataset=depression_dataset.dropna()"
   ]
  },
  {
   "cell_type": "code",
   "execution_count": 5,
   "metadata": {
    "ExecuteTime": {
     "end_time": "2021-11-02T09:00:25.318381Z",
     "start_time": "2021-11-02T08:56:47.737064Z"
    },
    "colab": {
     "base_uri": "https://localhost:8080/",
     "height": 144,
     "referenced_widgets": [
      "85cee14f15b24904bbfb1edf2fa0052e",
      "9d2e5159fa4d4ac696917d517b86598c",
      "20fd4199bbe34c29bd954bc17fba491a",
      "78ef03f15dc34f31b7f75aab5cbb8c4e",
      "574bb64dc28841bdb0386fe491dd3d9b",
      "9619caee5c944c018eb62b22dd31b7e9",
      "4ee371722a844bf1a13de17f8a1732dd",
      "015cf8c1e3634c6db3e55abaac5827ff",
      "f670937ee79c4bc8b0b8ab55c548ba82",
      "877b9224bf924637850386e824448ea7",
      "1c8d31da291b47679d046eb8646709bc",
      "7baa9cbab1c044b7a63709c53bb3c8c1",
      "43c3e1d6c8cd466bba1edc9ecee3f885",
      "a2c933e02bfd4f38828c91c3f71c437b",
      "447cf4c6a5fb43588ffebbf54595bea7",
      "82b8d12da415466ab27e978d62b2ef09",
      "e63edaf0222842278deb1a6b67a0552b",
      "350cf969010040649a2c93e857212293",
      "15b99436f5f844d8957c1bb0451aab45",
      "56f6c6765fec44b8928b083821c79b30",
      "d9c7b89c5d1a4ecfab66be20e9b73252",
      "89d8461d1621459abc12999e2b9e38a9",
      "652e3814437b4c3daaadddb9a0054bdd",
      "2b9857386eb2499682a0bb4ebcc05f89",
      "c3fb1474ded54ea8aec27fa6eca62123",
      "758370fee4cd49c19759849d60c02018",
      "3d276ac2aa6f48da92bd87dfc4cac6e9",
      "63e275b2ae3e4ae1b04d3d34243843c9",
      "df632e28ec554fa5be59a29146aa4e33",
      "dcaeb8a3b14849358507cf584bfc09db",
      "4b219f3ce3c441c9a80def7b151299e2",
      "219ff63e882b42a185ba3f40eaf345b7",
      "f008246ad7c94d7fac05874485c749ba",
      "7c51968109ef46d5a0047bf873427f4d",
      "c2f40372b9224cf780125b82f9149d9a",
      "fc7eeaf2cab144d48fd37ec008c8c0df",
      "5eaff843e13a4c08b4d79261f33333b1",
      "57ad7b35ab4841718ee4c68bba3e827d",
      "2e121f190b6642458ee33982fb078df1",
      "0c4e3ecd97894af9999fb69dc26d6d66",
      "08d7f66d56524811835d4fa0ac783669",
      "f5531f20fb2c41369d0e11d36f3087d0",
      "99cb7a12f62044f19853e829af8ebb81",
      "79201a3de8a44a76b94cd20a63c5cbb6"
     ]
    },
    "id": "lk3huIoZKF8q",
    "outputId": "f6596681-9dbf-4107-ee22-4b588bef36fe"
   },
   "outputs": [
    {
     "data": {
      "application/vnd.jupyter.widget-view+json": {
       "model_id": "633cfadac81e4bf7aa4f57bf808232e9",
       "version_major": 2,
       "version_minor": 0
      },
      "text/plain": [
       "HBox(children=(HTML(value='Summarize dataset'), FloatProgress(value=0.0, max=63.0), HTML(value='')))"
      ]
     },
     "metadata": {},
     "output_type": "display_data"
    },
    {
     "name": "stdout",
     "output_type": "stream",
     "text": [
      "\n"
     ]
    },
    {
     "data": {
      "application/vnd.jupyter.widget-view+json": {
       "model_id": "1af15cc0f4144c95a967a532c586e9ab",
       "version_major": 2,
       "version_minor": 0
      },
      "text/plain": [
       "HBox(children=(HTML(value='Generate report structure'), FloatProgress(value=0.0, max=1.0), HTML(value='')))"
      ]
     },
     "metadata": {},
     "output_type": "display_data"
    },
    {
     "name": "stdout",
     "output_type": "stream",
     "text": [
      "\n"
     ]
    },
    {
     "data": {
      "application/vnd.jupyter.widget-view+json": {
       "model_id": "98a9922a71dd4e258192fa0df41fb87b",
       "version_major": 2,
       "version_minor": 0
      },
      "text/plain": [
       "HBox(children=(HTML(value='Render HTML'), FloatProgress(value=0.0, max=1.0), HTML(value='')))"
      ]
     },
     "metadata": {},
     "output_type": "display_data"
    },
    {
     "name": "stdout",
     "output_type": "stream",
     "text": [
      "\n"
     ]
    },
    {
     "data": {
      "application/vnd.jupyter.widget-view+json": {
       "model_id": "d9b3757e94d14e32a8f980872d85c6b5",
       "version_major": 2,
       "version_minor": 0
      },
      "text/plain": [
       "HBox(children=(HTML(value='Export report to file'), FloatProgress(value=0.0, max=1.0), HTML(value='')))"
      ]
     },
     "metadata": {},
     "output_type": "display_data"
    },
    {
     "name": "stdout",
     "output_type": "stream",
     "text": [
      "\n"
     ]
    }
   ],
   "source": [
    "from pandas_profiling import ProfileReport\n",
    "design_report = ProfileReport(depression_dataset)\n",
    "design_report.to_file(output_file='report.html')"
   ]
  },
  {
   "cell_type": "code",
   "execution_count": 6,
   "metadata": {
    "ExecuteTime": {
     "end_time": "2021-11-02T09:00:25.519841Z",
     "start_time": "2021-11-02T09:00:25.463987Z"
    },
    "id": "LGOWXdWstOq8"
   },
   "outputs": [],
   "source": [
    "depression_dataset['inter_dom'] = np.where(depression_dataset['inter_dom'] =='Dom', 0, depression_dataset['inter_dom'])\n",
    "depression_dataset['inter_dom'] = np.where(depression_dataset['inter_dom'] =='Inter', 1, depression_dataset['inter_dom'])\n",
    "\n",
    "depression_dataset['Region'] = np.where(depression_dataset['Region'] =='SA', 0, depression_dataset['Region'])\n",
    "depression_dataset['Region'] = np.where(depression_dataset['Region'] =='EA', 1, depression_dataset['Region'])\n",
    "depression_dataset['Region'] = np.where(depression_dataset['Region'] =='SEA', 2, depression_dataset['Region'])\n",
    "depression_dataset['Region'] = np.where(depression_dataset['Region'] =='JAP', 3, depression_dataset['Region'])\n",
    "depression_dataset['Region'] = np.where(depression_dataset['Region'] =='Others', 4, depression_dataset['Region'])\n",
    "\n",
    "depression_dataset['Gender'] = np.where(depression_dataset['Gender'] =='Female', 0, depression_dataset['Gender'])\n",
    "depression_dataset['Gender'] = np.where(depression_dataset['Gender'] =='Male', 1, depression_dataset['Gender'])\n",
    "\n",
    "depression_dataset['Academic'] = np.where(depression_dataset['Academic'] =='Under', 0, depression_dataset['Academic'])\n",
    "depression_dataset['Academic'] = np.where(depression_dataset['Academic'] =='Grad', 1, depression_dataset['Academic'])\n",
    "\n",
    "depression_dataset['Stay_Cate'] = np.where(depression_dataset['Stay_Cate'] =='Short', 0, depression_dataset['Stay_Cate'])\n",
    "depression_dataset['Stay_Cate'] = np.where(depression_dataset['Stay_Cate'] =='Medium', 1, depression_dataset['Stay_Cate'])\n",
    "depression_dataset['Stay_Cate'] = np.where(depression_dataset['Stay_Cate'] =='Long', 2, depression_dataset['Stay_Cate'])\n",
    "\n",
    "depression_dataset['DepType'] = np.where(depression_dataset['DepType'] =='No', 0, depression_dataset['DepType'])\n",
    "depression_dataset['DepType'] = np.where(depression_dataset['DepType'] =='Major', 1, depression_dataset['DepType'])\n",
    "depression_dataset['DepType'] = np.where(depression_dataset['DepType'] =='Other', 2, depression_dataset['DepType'])\n",
    "\n",
    "depression_dataset['DepSev'] = np.where(depression_dataset['DepSev'] =='Min', 0, depression_dataset['DepSev'])\n",
    "depression_dataset['DepSev'] = np.where(depression_dataset['DepSev'] =='Mild', 1, depression_dataset['DepSev'])\n",
    "depression_dataset['DepSev'] = np.where(depression_dataset['DepSev'] =='Mod', 2, depression_dataset['DepSev'])\n",
    "depression_dataset['DepSev'] = np.where(depression_dataset['DepSev'] =='Sev', 3, depression_dataset['DepSev'])\n",
    "depression_dataset['DepSev'] = np.where(depression_dataset['DepSev'] =='ModSev', 4, depression_dataset['DepSev'])\n"
   ]
  },
  {
   "cell_type": "code",
   "execution_count": 7,
   "metadata": {
    "ExecuteTime": {
     "end_time": "2021-11-02T09:00:25.688399Z",
     "start_time": "2021-11-02T09:00:25.665463Z"
    },
    "id": "L7Wp41Z5tWQG"
   },
   "outputs": [],
   "source": [
    "depression_dataset['Japanese_cate'] = np.where(depression_dataset['Japanese_cate'] =='Low', 0, depression_dataset['Japanese_cate'])\n",
    "depression_dataset['Japanese_cate'] = np.where(depression_dataset['Japanese_cate'] =='Average', 1, depression_dataset['Japanese_cate'])\n",
    "depression_dataset['Japanese_cate'] = np.where(depression_dataset['Japanese_cate'] =='High', 2, depression_dataset['Japanese_cate'])\n",
    "\n",
    "depression_dataset['English_cate'] = np.where(depression_dataset['English_cate'] =='Low', 0, depression_dataset['English_cate'])\n",
    "depression_dataset['English_cate'] = np.where(depression_dataset['English_cate'] =='Average', 1, depression_dataset['English_cate'])\n",
    "depression_dataset['English_cate'] = np.where(depression_dataset['English_cate'] =='High', 2, depression_dataset['English_cate'])"
   ]
  },
  {
   "cell_type": "code",
   "execution_count": 8,
   "metadata": {
    "ExecuteTime": {
     "end_time": "2021-11-02T09:00:25.938729Z",
     "start_time": "2021-11-02T09:00:25.818051Z"
    },
    "id": "XCTblJpWtaCH"
   },
   "outputs": [],
   "source": [
    "depression_dataset['Intimate'] = np.where(depression_dataset['Intimate'] =='Yes', 0, depression_dataset['Intimate'])\n",
    "depression_dataset['Intimate'] = np.where(depression_dataset['Intimate'] =='No', 1, depression_dataset['Intimate'])\n",
    "\n",
    "depression_dataset['Religion'] = np.where(depression_dataset['Religion'] =='Yes', 0, depression_dataset['Religion'])\n",
    "depression_dataset['Religion'] = np.where(depression_dataset['Religion'] =='No', 1, depression_dataset['Religion'])\n",
    "\n",
    "depression_dataset['Suicide'] = np.where(depression_dataset['Suicide'] =='Yes', 0, depression_dataset['Suicide'])\n",
    "depression_dataset['Suicide'] = np.where(depression_dataset['Suicide'] =='No', 1, depression_dataset['Suicide'])\n",
    "\n",
    "depression_dataset['Dep'] = np.where(depression_dataset['Dep'] =='Yes', 0, depression_dataset['Dep'])\n",
    "depression_dataset['Dep'] = np.where(depression_dataset['Dep'] =='No', 1, depression_dataset['Dep'])\n",
    "\n",
    "depression_dataset['Partner_bi'] = np.where(depression_dataset['Partner_bi'] =='Yes', 0, depression_dataset['Partner_bi'])\n",
    "depression_dataset['Partner_bi'] = np.where(depression_dataset['Partner_bi'] =='No', 1, depression_dataset['Partner_bi'])\n",
    "\n",
    "depression_dataset['Friends_bi'] = np.where(depression_dataset['Friends_bi'] =='Yes', 0, depression_dataset['Friends_bi'])\n",
    "depression_dataset['Friends_bi'] = np.where(depression_dataset['Friends_bi'] =='No', 1, depression_dataset['Friends_bi'])\n",
    "\n",
    "depression_dataset['Parents_bi'] = np.where(depression_dataset['Parents_bi'] =='Yes', 0, depression_dataset['Parents_bi'])\n",
    "depression_dataset['Parents_bi'] = np.where(depression_dataset['Parents_bi'] =='No', 1, depression_dataset['Parents_bi'])\n",
    "\n",
    "depression_dataset['Relative_bi'] = np.where(depression_dataset['Relative_bi'] =='Yes', 0, depression_dataset['Relative_bi'])\n",
    "depression_dataset['Relative_bi'] = np.where(depression_dataset['Relative_bi'] =='No', 1, depression_dataset['Relative_bi'])\n",
    "\n",
    "depression_dataset['Professional_bi'] = np.where(depression_dataset['Professional_bi'] =='Yes', 0, depression_dataset['Professional_bi'])\n",
    "depression_dataset['Professional_bi'] = np.where(depression_dataset['Professional_bi'] =='No', 1, depression_dataset['Professional_bi'])\n",
    "\n",
    "depression_dataset['Phone_bi'] = np.where(depression_dataset['Phone_bi'] =='Yes', 0, depression_dataset['Phone_bi'])\n",
    "depression_dataset['Phone_bi'] = np.where(depression_dataset['Phone_bi'] =='No', 1, depression_dataset['Phone_bi'])\n",
    "\n",
    "depression_dataset['Doctor_bi'] = np.where(depression_dataset['Doctor_bi'] =='Yes', 0, depression_dataset['Doctor_bi'])\n",
    "depression_dataset['Doctor_bi'] = np.where(depression_dataset['Doctor_bi'] =='No', 1, depression_dataset['Doctor_bi'])\n",
    "\n",
    "depression_dataset['religion_bi'] = np.where(depression_dataset['religion_bi'] =='Yes', 0, depression_dataset['religion_bi'])\n",
    "depression_dataset['religion_bi'] = np.where(depression_dataset['religion_bi'] =='No', 1, depression_dataset['religion_bi'])\n",
    "\n",
    "depression_dataset['Alone_bi'] = np.where(depression_dataset['Alone_bi'] =='Yes', 0, depression_dataset['Alone_bi'])\n",
    "depression_dataset['Alone_bi'] = np.where(depression_dataset['Alone_bi'] =='No', 1, depression_dataset['Alone_bi'])\n",
    "\n",
    "depression_dataset['Others_bi'] = np.where(depression_dataset['Others_bi'] =='Yes', 0, depression_dataset['Others_bi'])\n",
    "depression_dataset['Others_bi'] = np.where(depression_dataset['Others_bi'] =='No', 1, depression_dataset['Others_bi'])\n",
    "\n",
    "depression_dataset['Internet_bi'] = np.where(depression_dataset['Internet_bi'] =='Yes', 0, depression_dataset['Internet_bi'])\n",
    "depression_dataset['Internet_bi'] = np.where(depression_dataset['Internet_bi'] =='No', 1, depression_dataset['Internet_bi'])\n"
   ]
  },
  {
   "cell_type": "code",
   "execution_count": 9,
   "metadata": {
    "ExecuteTime": {
     "end_time": "2021-11-02T09:00:26.079354Z",
     "start_time": "2021-11-02T09:00:26.054419Z"
    },
    "id": "PP-tCOHjtl7j"
   },
   "outputs": [],
   "source": [
    "depression_dataset = depression_dataset.drop(['Suicide','DepType','ToDep','DepSev'], axis = 1)"
   ]
  },
  {
   "cell_type": "code",
   "execution_count": 10,
   "metadata": {
    "ExecuteTime": {
     "end_time": "2021-11-02T09:00:26.238191Z",
     "start_time": "2021-11-02T09:00:26.228220Z"
    },
    "id": "uS9v0wTTt2s0"
   },
   "outputs": [],
   "source": [
    "col_list = depression_dataset.columns\n"
   ]
  },
  {
   "cell_type": "code",
   "execution_count": 11,
   "metadata": {
    "ExecuteTime": {
     "end_time": "2021-11-02T09:00:26.393290Z",
     "start_time": "2021-11-02T09:00:26.367362Z"
    },
    "colab": {
     "base_uri": "https://localhost:8080/"
    },
    "id": "hAPa1sh96rXb",
    "outputId": "c29a0e5e-786e-4380-ec70-30b7b811951a"
   },
   "outputs": [
    {
     "name": "stdout",
     "output_type": "stream",
     "text": [
      "inter_dom           object\n",
      "Region              object\n",
      "Gender              object\n",
      "Academic            object\n",
      "Age                  int64\n",
      "Age_cate             int64\n",
      "Stay                 int64\n",
      "Stay_Cate           object\n",
      "Japanese             int64\n",
      "Japanese_cate       object\n",
      "English              int64\n",
      "English_cate        object\n",
      "Intimate            object\n",
      "Religion            object\n",
      "Dep                 object\n",
      "ToSC                 int64\n",
      "APD                  int64\n",
      "AHome                int64\n",
      "APH                  int64\n",
      "Afear                int64\n",
      "ACS                  int64\n",
      "AGuilt               int64\n",
      "AMiscell             int64\n",
      "ToAS                 int64\n",
      "Partner              int64\n",
      "Friends              int64\n",
      "Parents              int64\n",
      "Relative             int64\n",
      "Profess              int64\n",
      " Phone               int64\n",
      "Doctor               int64\n",
      "Reli                 int64\n",
      "Alone                int64\n",
      "Others               int64\n",
      "Internet           float64\n",
      "Partner_bi          object\n",
      "Friends_bi          object\n",
      "Parents_bi          object\n",
      "Relative_bi         object\n",
      "Professional_bi     object\n",
      "Phone_bi            object\n",
      "Doctor_bi           object\n",
      "religion_bi         object\n",
      "Alone_bi            object\n",
      "Others_bi           object\n",
      "Internet_bi         object\n",
      "dtype: object\n"
     ]
    }
   ],
   "source": [
    "dataTypeSeries = depression_dataset.dtypes\n",
    "print(dataTypeSeries)"
   ]
  },
  {
   "cell_type": "code",
   "execution_count": 12,
   "metadata": {
    "ExecuteTime": {
     "end_time": "2021-11-02T09:00:26.548875Z",
     "start_time": "2021-11-02T09:00:26.522944Z"
    },
    "id": "mlimVuyPt8mV"
   },
   "outputs": [],
   "source": [
    "X = depression_dataset.drop(['Dep'], axis=1)\n",
    "y = depression_dataset['Dep']\n",
    "\n"
   ]
  },
  {
   "cell_type": "code",
   "execution_count": 13,
   "metadata": {
    "ExecuteTime": {
     "end_time": "2021-11-02T09:00:26.877993Z",
     "start_time": "2021-11-02T09:00:26.850069Z"
    },
    "id": "K4VGR5e8uR4r"
   },
   "outputs": [],
   "source": [
    "X_train, X_test, y_train, y_test = train_test_split(X, y, test_size=0.3 , random_state=1)\n"
   ]
  },
  {
   "cell_type": "code",
   "execution_count": 14,
   "metadata": {
    "ExecuteTime": {
     "end_time": "2021-11-02T09:00:27.266953Z",
     "start_time": "2021-11-02T09:00:27.227060Z"
    },
    "colab": {
     "base_uri": "https://localhost:8080/"
    },
    "id": "ltwZePzqv-WR",
    "outputId": "60b05155-28ef-4f33-e827-92ad8db37e55"
   },
   "outputs": [
    {
     "name": "stdout",
     "output_type": "stream",
     "text": [
      "    inter_dom Region Gender Academic  Age  Age_cate  Stay Stay_Cate  Japanese  \\\n",
      "120         1      1      1        0   23         4     2         1         2   \n",
      "84          1      2      0        0   21         3     4         2         3   \n",
      "127         1      2      1        0   27         5     6         2         3   \n",
      "172         1      2      1        0   21         3     3         1         3   \n",
      "247         0      3      0        0   22         3     4         2         5   \n",
      "..        ...    ...    ...      ...  ...       ...   ...       ...       ...   \n",
      "162         1      2      0        0   19         2     1         0         2   \n",
      "97          1      0      1        0   20         2     1         0         2   \n",
      "165         1      0      0        0   21         3     1         0         2   \n",
      "261         0      3      0        0   21         3     3         1         5   \n",
      "62          1      2      0        0   21         3     3         1         1   \n",
      "\n",
      "    Japanese_cate  ...  Friends_bi Parents_bi Relative_bi Professional_bi  \\\n",
      "120             0  ...           0          0           1               1   \n",
      "84              1  ...           1          0           1               1   \n",
      "127             1  ...           0          1           1               1   \n",
      "172             1  ...           1          1           1               1   \n",
      "247             2  ...           0          0           1               1   \n",
      "..            ...  ...         ...        ...         ...             ...   \n",
      "162             0  ...           1          1           1               1   \n",
      "97              0  ...           0          0           0               0   \n",
      "165             0  ...           1          1           1               0   \n",
      "261             2  ...           1          1           1               1   \n",
      "62              0  ...           0          0           1               1   \n",
      "\n",
      "     Phone_bi  Doctor_bi  religion_bi  Alone_bi  Others_bi  Internet_bi  \n",
      "120         1          1            1         1          1            1  \n",
      "84          1          1            1         1          1            1  \n",
      "127         1          1            1         1          1            1  \n",
      "172         1          1            1         0          1            0  \n",
      "247         1          1            1         1          1            1  \n",
      "..        ...        ...          ...       ...        ...          ...  \n",
      "162         1          1            1         1          1            1  \n",
      "97          0          0            0         0          0            0  \n",
      "165         1          0            1         1          1            1  \n",
      "261         1          1            1         1          1            1  \n",
      "62          1          1            1         1          1            1  \n",
      "\n",
      "[169 rows x 45 columns]\n"
     ]
    }
   ],
   "source": [
    "print(X_train)"
   ]
  },
  {
   "cell_type": "code",
   "execution_count": 15,
   "metadata": {
    "ExecuteTime": {
     "end_time": "2021-11-02T09:00:27.594715Z",
     "start_time": "2021-11-02T09:00:27.583744Z"
    },
    "colab": {
     "base_uri": "https://localhost:8080/"
    },
    "id": "U4Q_DeTlwCw5",
    "outputId": "181b0eec-c53c-4251-e93d-3b4f54c1a026"
   },
   "outputs": [
    {
     "name": "stdout",
     "output_type": "stream",
     "text": [
      "120    0\n",
      "84     0\n",
      "127    0\n",
      "172    0\n",
      "247    1\n",
      "      ..\n",
      "162    1\n",
      "97     1\n",
      "165    1\n",
      "261    1\n",
      "62     0\n",
      "Name: Dep, Length: 169, dtype: object\n"
     ]
    }
   ],
   "source": [
    "print(y_train)"
   ]
  },
  {
   "cell_type": "code",
   "execution_count": 16,
   "metadata": {
    "ExecuteTime": {
     "end_time": "2021-11-02T09:00:27.910435Z",
     "start_time": "2021-11-02T09:00:27.899464Z"
    },
    "id": "E1f9169dJ3R7"
   },
   "outputs": [],
   "source": [
    "y_train=y_train.astype('int')"
   ]
  },
  {
   "cell_type": "code",
   "execution_count": 17,
   "metadata": {
    "ExecuteTime": {
     "end_time": "2021-11-02T09:00:28.209536Z",
     "start_time": "2021-11-02T09:00:28.197567Z"
    },
    "id": "Y33f2CMBuK0V"
   },
   "outputs": [],
   "source": [
    "param_grid = {\n",
    "   'max_depth': [7,8,9, 10, 11,12,13],\n",
    "   'max_features': [5, 6, 7, 8, 9],\n",
    "  'min_samples_leaf': [10, 15, 20, 25, 30],\n",
    "  'min_samples_split': [30, 45, 60, 75, 90],\n",
    "   'n_estimators': [71, 81, 91, 101],\n",
    "\n",
    "}\n",
    "\n",
    "rfCl = RandomForestClassifier()"
   ]
  },
  {
   "cell_type": "code",
   "execution_count": 18,
   "metadata": {
    "ExecuteTime": {
     "end_time": "2021-11-02T09:00:28.511760Z",
     "start_time": "2021-11-02T09:00:28.500790Z"
    },
    "id": "-_6PLo7Y1QlV"
   },
   "outputs": [],
   "source": [
    "param_grid = {\n",
    "    'max_depth': [7,8,9,10],\n",
    "    'max_features': [4, 5, 6, 7],\n",
    "    'min_samples_leaf': [5, 10, 15, 20],\n",
    "    'min_samples_split': [10, 20 , 30, 40, 50],\n",
    "    'n_estimators': [91, 101, 111],\n",
    "}\n",
    "\n",
    "rfCl = RandomForestClassifier()\n",
    "\n",
    "RFCl_model = GridSearchCV(estimator = rfCl, param_grid = param_grid, cv = 3)"
   ]
  },
  {
   "cell_type": "code",
   "execution_count": 19,
   "metadata": {
    "ExecuteTime": {
     "end_time": "2021-11-02T09:10:36.910944Z",
     "start_time": "2021-11-02T09:00:28.861588Z"
    },
    "colab": {
     "base_uri": "https://localhost:8080/"
    },
    "id": "WKJ6Jftq1RbZ",
    "outputId": "1c6c676b-9899-46fd-8d27-9ffa0490a744"
   },
   "outputs": [
    {
     "data": {
      "text/plain": [
       "GridSearchCV(cv=3, estimator=RandomForestClassifier(),\n",
       "             param_grid={'max_depth': [7, 8, 9, 10],\n",
       "                         'max_features': [4, 5, 6, 7],\n",
       "                         'min_samples_leaf': [5, 10, 15, 20],\n",
       "                         'min_samples_split': [10, 20, 30, 40, 50],\n",
       "                         'n_estimators': [91, 101, 111]})"
      ]
     },
     "execution_count": 19,
     "metadata": {},
     "output_type": "execute_result"
    }
   ],
   "source": [
    "RFCl_model.fit(X_train, y_train)"
   ]
  },
  {
   "cell_type": "code",
   "execution_count": 20,
   "metadata": {
    "ExecuteTime": {
     "end_time": "2021-11-02T09:10:37.068057Z",
     "start_time": "2021-11-02T09:10:37.054875Z"
    },
    "id": "QHu5Rl2I7fgk"
   },
   "outputs": [],
   "source": [
    "RFCl_model.best_params_\n",
    "best_grid_rfc = RFCl_model.best_estimator_"
   ]
  },
  {
   "cell_type": "code",
   "execution_count": 21,
   "metadata": {
    "ExecuteTime": {
     "end_time": "2021-11-02T09:10:37.210771Z",
     "start_time": "2021-11-02T09:10:37.198285Z"
    },
    "colab": {
     "base_uri": "https://localhost:8080/"
    },
    "id": "8FahiBVf1U7e",
    "outputId": "a447eff1-2eff-4655-f077-c6cddcf01030"
   },
   "outputs": [
    {
     "name": "stdout",
     "output_type": "stream",
     "text": [
      "RandomForestClassifier(max_depth=7, max_features=5, min_samples_leaf=5,\n",
      "                       min_samples_split=50, n_estimators=111)\n"
     ]
    }
   ],
   "source": [
    "print(best_grid_rfc)"
   ]
  },
  {
   "cell_type": "code",
   "execution_count": 22,
   "metadata": {
    "ExecuteTime": {
     "end_time": "2021-11-02T09:10:38.584292Z",
     "start_time": "2021-11-02T09:10:37.352989Z"
    },
    "colab": {
     "base_uri": "https://localhost:8080/"
    },
    "id": "d5xmYGfLtBJ3",
    "outputId": "2e9aa713-9cbe-4846-cf95-cbe76f22860d"
   },
   "outputs": [
    {
     "data": {
      "text/plain": [
       "BaggingClassifier(base_estimator=RandomForestClassifier(max_depth=7,\n",
       "                                                        max_features=5,\n",
       "                                                        min_samples_leaf=5,\n",
       "                                                        min_samples_split=50,\n",
       "                                                        n_estimators=111),\n",
       "                  random_state=1)"
      ]
     },
     "execution_count": 22,
     "metadata": {},
     "output_type": "execute_result"
    }
   ],
   "source": [
    "Bagging_model=BaggingClassifier(base_estimator=best_grid_rfc,random_state=1)\n",
    "Bagging_model.fit(X_train, y_train)"
   ]
  },
  {
   "cell_type": "code",
   "execution_count": 23,
   "metadata": {
    "ExecuteTime": {
     "end_time": "2021-11-02T09:10:38.990900Z",
     "start_time": "2021-11-02T09:10:38.745878Z"
    },
    "id": "tlB6cEqjPUZK"
   },
   "outputs": [],
   "source": [
    "y_test_Bagging_predict = Bagging_model.predict(X_test)\n"
   ]
  },
  {
   "cell_type": "code",
   "execution_count": 24,
   "metadata": {
    "ExecuteTime": {
     "end_time": "2021-11-02T09:10:39.288236Z",
     "start_time": "2021-11-02T09:10:39.276233Z"
    },
    "colab": {
     "base_uri": "https://localhost:8080/"
    },
    "id": "cvfDNTb2RnFr",
    "outputId": "54890c38-0791-4463-e9b6-7a7a85304c0c"
   },
   "outputs": [
    {
     "name": "stdout",
     "output_type": "stream",
     "text": [
      "[1 1 1 1 1 1 1 1 1 1 1 1 0 1 1 1 1 0 0 1 1 1 1 1 1 1 1 1 1 1 1 0 1 1 1 1 1\n",
      " 0 1 1 0 1 1 1 1 1 1 1 1 1 1 0 0 1 1 0 1 1 1 1 1 1 0 1 1 1 1 1 1 0 1 0 1]\n"
     ]
    }
   ],
   "source": [
    "print(y_test_Bagging_predict)"
   ]
  },
  {
   "cell_type": "code",
   "execution_count": 25,
   "metadata": {
    "ExecuteTime": {
     "end_time": "2021-11-02T09:10:39.601457Z",
     "start_time": "2021-11-02T09:10:39.574816Z"
    },
    "id": "AAy0kvK9Pv6T"
   },
   "outputs": [],
   "source": [
    "from sklearn.metrics import roc_curve\n",
    "from sklearn.metrics import roc_auc_score\n",
    "def Performance_metrix(y_test, pred):\n",
    "    TN, FP, FN, TP = confusion_matrix(y_test, pred).ravel()\n",
    "    Population = TN+FN+TP+FP\n",
    "    Accuracy   =(TP+TN) / Population\n",
    "    Precision  = TP / (TP+FP) \n",
    "    NPV= TN / (TN+FN)\n",
    "    Sensitivity= TP/(TP+FN)\n",
    "    Specificity= TN/(TN+FP)\n",
    "    print('Accuracy: ' , Accuracy, 'Sensitivity: ', Sensitivity, 'Specificity: ', Specificity,'\\n\\nPositive predictive value: ' , Precision, 'Negative predictive value: ',  NPV)"
   ]
  },
  {
   "cell_type": "code",
   "execution_count": 26,
   "metadata": {
    "ExecuteTime": {
     "end_time": "2021-11-02T09:10:39.882634Z",
     "start_time": "2021-11-02T09:10:39.870633Z"
    },
    "id": "X1U7hwQFR6w9"
   },
   "outputs": [],
   "source": [
    "y_test=y_test.astype('int')"
   ]
  },
  {
   "cell_type": "code",
   "execution_count": 27,
   "metadata": {
    "ExecuteTime": {
     "end_time": "2021-11-02T09:10:40.163882Z",
     "start_time": "2021-11-02T09:10:40.150883Z"
    },
    "colab": {
     "base_uri": "https://localhost:8080/"
    },
    "id": "6pSWS5zxPX5h",
    "outputId": "102e4da1-f01d-4d2d-d846-f3bc7bd011bc"
   },
   "outputs": [
    {
     "name": "stdout",
     "output_type": "stream",
     "text": [
      "Accuracy:  0.726027397260274 Sensitivity:  0.9019607843137255 Specificity:  0.3181818181818182 \n",
      "\n",
      "Positive predictive value:  0.7540983606557377 Negative predictive value:  0.5833333333333334\n"
     ]
    }
   ],
   "source": [
    "#roc=roc_auc_score(y_test, Bagging_model.predict_proba(X_test)[:,1])\n",
    "Performance_metrix(y_test,y_test_Bagging_predict)\n"
   ]
  },
  {
   "cell_type": "code",
   "execution_count": 28,
   "metadata": {
    "ExecuteTime": {
     "end_time": "2021-11-02T09:10:40.538915Z",
     "start_time": "2021-11-02T09:10:40.418168Z"
    },
    "colab": {
     "base_uri": "https://localhost:8080/"
    },
    "id": "Iib6oOr5SFCV",
    "outputId": "d5a72657-f311-4c73-c621-239d259aa938"
   },
   "outputs": [
    {
     "name": "stdout",
     "output_type": "stream",
     "text": [
      "\n",
      "Auc:  0.7566844919786095\n"
     ]
    }
   ],
   "source": [
    "roc=roc_auc_score(y_test, Bagging_model.predict_proba(X_test)[:,1])\n",
    "print('\\nAuc: ', roc)"
   ]
  },
  {
   "cell_type": "code",
   "execution_count": null,
   "metadata": {},
   "outputs": [],
   "source": []
  }
 ],
 "metadata": {
  "colab": {
   "collapsed_sections": [],
   "name": "code_implementation.ipynb",
   "provenance": []
  },
  "kernelspec": {
   "display_name": "Python 3",
   "language": "python",
   "name": "python3"
  },
  "language_info": {
   "codemirror_mode": {
    "name": "ipython",
    "version": 3
   },
   "file_extension": ".py",
   "mimetype": "text/x-python",
   "name": "python",
   "nbconvert_exporter": "python",
   "pygments_lexer": "ipython3",
   "version": "3.8.5"
  },
  "toc": {
   "base_numbering": 1,
   "nav_menu": {},
   "number_sections": true,
   "sideBar": true,
   "skip_h1_title": false,
   "title_cell": "Table of Contents",
   "title_sidebar": "Contents",
   "toc_cell": false,
   "toc_position": {},
   "toc_section_display": true,
   "toc_window_display": false
  },
  "varInspector": {
   "cols": {
    "lenName": 16,
    "lenType": 16,
    "lenVar": 40
   },
   "kernels_config": {
    "python": {
     "delete_cmd_postfix": "",
     "delete_cmd_prefix": "del ",
     "library": "var_list.py",
     "varRefreshCmd": "print(var_dic_list())"
    },
    "r": {
     "delete_cmd_postfix": ") ",
     "delete_cmd_prefix": "rm(",
     "library": "var_list.r",
     "varRefreshCmd": "cat(var_dic_list()) "
    }
   },
   "types_to_exclude": [
    "module",
    "function",
    "builtin_function_or_method",
    "instance",
    "_Feature"
   ],
   "window_display": false
  },
  "widgets": {
   "application/vnd.jupyter.widget-state+json": {
    "015cf8c1e3634c6db3e55abaac5827ff": {
     "model_module": "@jupyter-widgets/controls",
     "model_module_version": "1.5.0",
     "model_name": "ProgressStyleModel",
     "state": {
      "_model_module": "@jupyter-widgets/controls",
      "_model_module_version": "1.5.0",
      "_model_name": "ProgressStyleModel",
      "_view_count": null,
      "_view_module": "@jupyter-widgets/base",
      "_view_module_version": "1.2.0",
      "_view_name": "StyleView",
      "bar_color": null,
      "description_width": ""
     }
    },
    "08d7f66d56524811835d4fa0ac783669": {
     "model_module": "@jupyter-widgets/controls",
     "model_module_version": "1.5.0",
     "model_name": "ProgressStyleModel",
     "state": {
      "_model_module": "@jupyter-widgets/controls",
      "_model_module_version": "1.5.0",
      "_model_name": "ProgressStyleModel",
      "_view_count": null,
      "_view_module": "@jupyter-widgets/base",
      "_view_module_version": "1.2.0",
      "_view_name": "StyleView",
      "bar_color": null,
      "description_width": ""
     }
    },
    "0c4e3ecd97894af9999fb69dc26d6d66": {
     "model_module": "@jupyter-widgets/base",
     "model_module_version": "1.2.0",
     "model_name": "LayoutModel",
     "state": {
      "_model_module": "@jupyter-widgets/base",
      "_model_module_version": "1.2.0",
      "_model_name": "LayoutModel",
      "_view_count": null,
      "_view_module": "@jupyter-widgets/base",
      "_view_module_version": "1.2.0",
      "_view_name": "LayoutView",
      "align_content": null,
      "align_items": null,
      "align_self": null,
      "border": null,
      "bottom": null,
      "display": null,
      "flex": null,
      "flex_flow": null,
      "grid_area": null,
      "grid_auto_columns": null,
      "grid_auto_flow": null,
      "grid_auto_rows": null,
      "grid_column": null,
      "grid_gap": null,
      "grid_row": null,
      "grid_template_areas": null,
      "grid_template_columns": null,
      "grid_template_rows": null,
      "height": null,
      "justify_content": null,
      "justify_items": null,
      "left": null,
      "margin": null,
      "max_height": null,
      "max_width": null,
      "min_height": null,
      "min_width": null,
      "object_fit": null,
      "object_position": null,
      "order": null,
      "overflow": null,
      "overflow_x": null,
      "overflow_y": null,
      "padding": null,
      "right": null,
      "top": null,
      "visibility": null,
      "width": null
     }
    },
    "15b99436f5f844d8957c1bb0451aab45": {
     "model_module": "@jupyter-widgets/controls",
     "model_module_version": "1.5.0",
     "model_name": "ProgressStyleModel",
     "state": {
      "_model_module": "@jupyter-widgets/controls",
      "_model_module_version": "1.5.0",
      "_model_name": "ProgressStyleModel",
      "_view_count": null,
      "_view_module": "@jupyter-widgets/base",
      "_view_module_version": "1.2.0",
      "_view_name": "StyleView",
      "bar_color": null,
      "description_width": ""
     }
    },
    "1c8d31da291b47679d046eb8646709bc": {
     "model_module": "@jupyter-widgets/base",
     "model_module_version": "1.2.0",
     "model_name": "LayoutModel",
     "state": {
      "_model_module": "@jupyter-widgets/base",
      "_model_module_version": "1.2.0",
      "_model_name": "LayoutModel",
      "_view_count": null,
      "_view_module": "@jupyter-widgets/base",
      "_view_module_version": "1.2.0",
      "_view_name": "LayoutView",
      "align_content": null,
      "align_items": null,
      "align_self": null,
      "border": null,
      "bottom": null,
      "display": null,
      "flex": null,
      "flex_flow": null,
      "grid_area": null,
      "grid_auto_columns": null,
      "grid_auto_flow": null,
      "grid_auto_rows": null,
      "grid_column": null,
      "grid_gap": null,
      "grid_row": null,
      "grid_template_areas": null,
      "grid_template_columns": null,
      "grid_template_rows": null,
      "height": null,
      "justify_content": null,
      "justify_items": null,
      "left": null,
      "margin": null,
      "max_height": null,
      "max_width": null,
      "min_height": null,
      "min_width": null,
      "object_fit": null,
      "object_position": null,
      "order": null,
      "overflow": null,
      "overflow_x": null,
      "overflow_y": null,
      "padding": null,
      "right": null,
      "top": null,
      "visibility": null,
      "width": null
     }
    },
    "20fd4199bbe34c29bd954bc17fba491a": {
     "model_module": "@jupyter-widgets/controls",
     "model_module_version": "1.5.0",
     "model_name": "HTMLModel",
     "state": {
      "_dom_classes": [],
      "_model_module": "@jupyter-widgets/controls",
      "_model_module_version": "1.5.0",
      "_model_name": "HTMLModel",
      "_view_count": null,
      "_view_module": "@jupyter-widgets/controls",
      "_view_module_version": "1.5.0",
      "_view_name": "HTMLView",
      "description": "",
      "description_tooltip": null,
      "layout": "IPY_MODEL_4ee371722a844bf1a13de17f8a1732dd",
      "placeholder": "​",
      "style": "IPY_MODEL_9619caee5c944c018eb62b22dd31b7e9",
      "value": "Summarize dataset: "
     }
    },
    "219ff63e882b42a185ba3f40eaf345b7": {
     "model_module": "@jupyter-widgets/controls",
     "model_module_version": "1.5.0",
     "model_name": "DescriptionStyleModel",
     "state": {
      "_model_module": "@jupyter-widgets/controls",
      "_model_module_version": "1.5.0",
      "_model_name": "DescriptionStyleModel",
      "_view_count": null,
      "_view_module": "@jupyter-widgets/base",
      "_view_module_version": "1.2.0",
      "_view_name": "StyleView",
      "description_width": ""
     }
    },
    "2b9857386eb2499682a0bb4ebcc05f89": {
     "model_module": "@jupyter-widgets/base",
     "model_module_version": "1.2.0",
     "model_name": "LayoutModel",
     "state": {
      "_model_module": "@jupyter-widgets/base",
      "_model_module_version": "1.2.0",
      "_model_name": "LayoutModel",
      "_view_count": null,
      "_view_module": "@jupyter-widgets/base",
      "_view_module_version": "1.2.0",
      "_view_name": "LayoutView",
      "align_content": null,
      "align_items": null,
      "align_self": null,
      "border": null,
      "bottom": null,
      "display": null,
      "flex": null,
      "flex_flow": null,
      "grid_area": null,
      "grid_auto_columns": null,
      "grid_auto_flow": null,
      "grid_auto_rows": null,
      "grid_column": null,
      "grid_gap": null,
      "grid_row": null,
      "grid_template_areas": null,
      "grid_template_columns": null,
      "grid_template_rows": null,
      "height": null,
      "justify_content": null,
      "justify_items": null,
      "left": null,
      "margin": null,
      "max_height": null,
      "max_width": null,
      "min_height": null,
      "min_width": null,
      "object_fit": null,
      "object_position": null,
      "order": null,
      "overflow": null,
      "overflow_x": null,
      "overflow_y": null,
      "padding": null,
      "right": null,
      "top": null,
      "visibility": null,
      "width": null
     }
    },
    "2e121f190b6642458ee33982fb078df1": {
     "model_module": "@jupyter-widgets/controls",
     "model_module_version": "1.5.0",
     "model_name": "DescriptionStyleModel",
     "state": {
      "_model_module": "@jupyter-widgets/controls",
      "_model_module_version": "1.5.0",
      "_model_name": "DescriptionStyleModel",
      "_view_count": null,
      "_view_module": "@jupyter-widgets/base",
      "_view_module_version": "1.2.0",
      "_view_name": "StyleView",
      "description_width": ""
     }
    },
    "350cf969010040649a2c93e857212293": {
     "model_module": "@jupyter-widgets/base",
     "model_module_version": "1.2.0",
     "model_name": "LayoutModel",
     "state": {
      "_model_module": "@jupyter-widgets/base",
      "_model_module_version": "1.2.0",
      "_model_name": "LayoutModel",
      "_view_count": null,
      "_view_module": "@jupyter-widgets/base",
      "_view_module_version": "1.2.0",
      "_view_name": "LayoutView",
      "align_content": null,
      "align_items": null,
      "align_self": null,
      "border": null,
      "bottom": null,
      "display": null,
      "flex": null,
      "flex_flow": null,
      "grid_area": null,
      "grid_auto_columns": null,
      "grid_auto_flow": null,
      "grid_auto_rows": null,
      "grid_column": null,
      "grid_gap": null,
      "grid_row": null,
      "grid_template_areas": null,
      "grid_template_columns": null,
      "grid_template_rows": null,
      "height": null,
      "justify_content": null,
      "justify_items": null,
      "left": null,
      "margin": null,
      "max_height": null,
      "max_width": null,
      "min_height": null,
      "min_width": null,
      "object_fit": null,
      "object_position": null,
      "order": null,
      "overflow": null,
      "overflow_x": null,
      "overflow_y": null,
      "padding": null,
      "right": null,
      "top": null,
      "visibility": null,
      "width": null
     }
    },
    "3d276ac2aa6f48da92bd87dfc4cac6e9": {
     "model_module": "@jupyter-widgets/controls",
     "model_module_version": "1.5.0",
     "model_name": "HTMLModel",
     "state": {
      "_dom_classes": [],
      "_model_module": "@jupyter-widgets/controls",
      "_model_module_version": "1.5.0",
      "_model_name": "HTMLModel",
      "_view_count": null,
      "_view_module": "@jupyter-widgets/controls",
      "_view_module_version": "1.5.0",
      "_view_name": "HTMLView",
      "description": "",
      "description_tooltip": null,
      "layout": "IPY_MODEL_f008246ad7c94d7fac05874485c749ba",
      "placeholder": "​",
      "style": "IPY_MODEL_219ff63e882b42a185ba3f40eaf345b7",
      "value": " 1/1 [00:18&lt;00:00, 18.11s/it]"
     }
    },
    "43c3e1d6c8cd466bba1edc9ecee3f885": {
     "model_module": "@jupyter-widgets/base",
     "model_module_version": "1.2.0",
     "model_name": "LayoutModel",
     "state": {
      "_model_module": "@jupyter-widgets/base",
      "_model_module_version": "1.2.0",
      "_model_name": "LayoutModel",
      "_view_count": null,
      "_view_module": "@jupyter-widgets/base",
      "_view_module_version": "1.2.0",
      "_view_name": "LayoutView",
      "align_content": null,
      "align_items": null,
      "align_self": null,
      "border": null,
      "bottom": null,
      "display": null,
      "flex": null,
      "flex_flow": null,
      "grid_area": null,
      "grid_auto_columns": null,
      "grid_auto_flow": null,
      "grid_auto_rows": null,
      "grid_column": null,
      "grid_gap": null,
      "grid_row": null,
      "grid_template_areas": null,
      "grid_template_columns": null,
      "grid_template_rows": null,
      "height": null,
      "justify_content": null,
      "justify_items": null,
      "left": null,
      "margin": null,
      "max_height": null,
      "max_width": null,
      "min_height": null,
      "min_width": null,
      "object_fit": null,
      "object_position": null,
      "order": null,
      "overflow": null,
      "overflow_x": null,
      "overflow_y": null,
      "padding": null,
      "right": null,
      "top": null,
      "visibility": null,
      "width": null
     }
    },
    "447cf4c6a5fb43588ffebbf54595bea7": {
     "model_module": "@jupyter-widgets/controls",
     "model_module_version": "1.5.0",
     "model_name": "FloatProgressModel",
     "state": {
      "_dom_classes": [],
      "_model_module": "@jupyter-widgets/controls",
      "_model_module_version": "1.5.0",
      "_model_name": "FloatProgressModel",
      "_view_count": null,
      "_view_module": "@jupyter-widgets/controls",
      "_view_module_version": "1.5.0",
      "_view_name": "ProgressView",
      "bar_style": "success",
      "description": "",
      "description_tooltip": null,
      "layout": "IPY_MODEL_56f6c6765fec44b8928b083821c79b30",
      "max": 1,
      "min": 0,
      "orientation": "horizontal",
      "style": "IPY_MODEL_15b99436f5f844d8957c1bb0451aab45",
      "value": 1
     }
    },
    "4b219f3ce3c441c9a80def7b151299e2": {
     "model_module": "@jupyter-widgets/base",
     "model_module_version": "1.2.0",
     "model_name": "LayoutModel",
     "state": {
      "_model_module": "@jupyter-widgets/base",
      "_model_module_version": "1.2.0",
      "_model_name": "LayoutModel",
      "_view_count": null,
      "_view_module": "@jupyter-widgets/base",
      "_view_module_version": "1.2.0",
      "_view_name": "LayoutView",
      "align_content": null,
      "align_items": null,
      "align_self": null,
      "border": null,
      "bottom": null,
      "display": null,
      "flex": null,
      "flex_flow": null,
      "grid_area": null,
      "grid_auto_columns": null,
      "grid_auto_flow": null,
      "grid_auto_rows": null,
      "grid_column": null,
      "grid_gap": null,
      "grid_row": null,
      "grid_template_areas": null,
      "grid_template_columns": null,
      "grid_template_rows": null,
      "height": null,
      "justify_content": null,
      "justify_items": null,
      "left": null,
      "margin": null,
      "max_height": null,
      "max_width": null,
      "min_height": null,
      "min_width": null,
      "object_fit": null,
      "object_position": null,
      "order": null,
      "overflow": null,
      "overflow_x": null,
      "overflow_y": null,
      "padding": null,
      "right": null,
      "top": null,
      "visibility": null,
      "width": null
     }
    },
    "4ee371722a844bf1a13de17f8a1732dd": {
     "model_module": "@jupyter-widgets/base",
     "model_module_version": "1.2.0",
     "model_name": "LayoutModel",
     "state": {
      "_model_module": "@jupyter-widgets/base",
      "_model_module_version": "1.2.0",
      "_model_name": "LayoutModel",
      "_view_count": null,
      "_view_module": "@jupyter-widgets/base",
      "_view_module_version": "1.2.0",
      "_view_name": "LayoutView",
      "align_content": null,
      "align_items": null,
      "align_self": null,
      "border": null,
      "bottom": null,
      "display": null,
      "flex": null,
      "flex_flow": null,
      "grid_area": null,
      "grid_auto_columns": null,
      "grid_auto_flow": null,
      "grid_auto_rows": null,
      "grid_column": null,
      "grid_gap": null,
      "grid_row": null,
      "grid_template_areas": null,
      "grid_template_columns": null,
      "grid_template_rows": null,
      "height": null,
      "justify_content": null,
      "justify_items": null,
      "left": null,
      "margin": null,
      "max_height": null,
      "max_width": null,
      "min_height": null,
      "min_width": null,
      "object_fit": null,
      "object_position": null,
      "order": null,
      "overflow": null,
      "overflow_x": null,
      "overflow_y": null,
      "padding": null,
      "right": null,
      "top": null,
      "visibility": null,
      "width": null
     }
    },
    "56f6c6765fec44b8928b083821c79b30": {
     "model_module": "@jupyter-widgets/base",
     "model_module_version": "1.2.0",
     "model_name": "LayoutModel",
     "state": {
      "_model_module": "@jupyter-widgets/base",
      "_model_module_version": "1.2.0",
      "_model_name": "LayoutModel",
      "_view_count": null,
      "_view_module": "@jupyter-widgets/base",
      "_view_module_version": "1.2.0",
      "_view_name": "LayoutView",
      "align_content": null,
      "align_items": null,
      "align_self": null,
      "border": null,
      "bottom": null,
      "display": null,
      "flex": null,
      "flex_flow": null,
      "grid_area": null,
      "grid_auto_columns": null,
      "grid_auto_flow": null,
      "grid_auto_rows": null,
      "grid_column": null,
      "grid_gap": null,
      "grid_row": null,
      "grid_template_areas": null,
      "grid_template_columns": null,
      "grid_template_rows": null,
      "height": null,
      "justify_content": null,
      "justify_items": null,
      "left": null,
      "margin": null,
      "max_height": null,
      "max_width": null,
      "min_height": null,
      "min_width": null,
      "object_fit": null,
      "object_position": null,
      "order": null,
      "overflow": null,
      "overflow_x": null,
      "overflow_y": null,
      "padding": null,
      "right": null,
      "top": null,
      "visibility": null,
      "width": null
     }
    },
    "574bb64dc28841bdb0386fe491dd3d9b": {
     "model_module": "@jupyter-widgets/controls",
     "model_module_version": "1.5.0",
     "model_name": "HTMLModel",
     "state": {
      "_dom_classes": [],
      "_model_module": "@jupyter-widgets/controls",
      "_model_module_version": "1.5.0",
      "_model_name": "HTMLModel",
      "_view_count": null,
      "_view_module": "@jupyter-widgets/controls",
      "_view_module_version": "1.5.0",
      "_view_name": "HTMLView",
      "description": "",
      "description_tooltip": null,
      "layout": "IPY_MODEL_1c8d31da291b47679d046eb8646709bc",
      "placeholder": "​",
      "style": "IPY_MODEL_877b9224bf924637850386e824448ea7",
      "value": " 65/? [02:34&lt;00:00,  7.10s/it, Completed]"
     }
    },
    "57ad7b35ab4841718ee4c68bba3e827d": {
     "model_module": "@jupyter-widgets/controls",
     "model_module_version": "1.5.0",
     "model_name": "HTMLModel",
     "state": {
      "_dom_classes": [],
      "_model_module": "@jupyter-widgets/controls",
      "_model_module_version": "1.5.0",
      "_model_name": "HTMLModel",
      "_view_count": null,
      "_view_module": "@jupyter-widgets/controls",
      "_view_module_version": "1.5.0",
      "_view_name": "HTMLView",
      "description": "",
      "description_tooltip": null,
      "layout": "IPY_MODEL_79201a3de8a44a76b94cd20a63c5cbb6",
      "placeholder": "​",
      "style": "IPY_MODEL_99cb7a12f62044f19853e829af8ebb81",
      "value": " 1/1 [00:00&lt;00:00,  5.44it/s]"
     }
    },
    "5eaff843e13a4c08b4d79261f33333b1": {
     "model_module": "@jupyter-widgets/controls",
     "model_module_version": "1.5.0",
     "model_name": "FloatProgressModel",
     "state": {
      "_dom_classes": [],
      "_model_module": "@jupyter-widgets/controls",
      "_model_module_version": "1.5.0",
      "_model_name": "FloatProgressModel",
      "_view_count": null,
      "_view_module": "@jupyter-widgets/controls",
      "_view_module_version": "1.5.0",
      "_view_name": "ProgressView",
      "bar_style": "success",
      "description": "",
      "description_tooltip": null,
      "layout": "IPY_MODEL_f5531f20fb2c41369d0e11d36f3087d0",
      "max": 1,
      "min": 0,
      "orientation": "horizontal",
      "style": "IPY_MODEL_08d7f66d56524811835d4fa0ac783669",
      "value": 1
     }
    },
    "63e275b2ae3e4ae1b04d3d34243843c9": {
     "model_module": "@jupyter-widgets/controls",
     "model_module_version": "1.5.0",
     "model_name": "DescriptionStyleModel",
     "state": {
      "_model_module": "@jupyter-widgets/controls",
      "_model_module_version": "1.5.0",
      "_model_name": "DescriptionStyleModel",
      "_view_count": null,
      "_view_module": "@jupyter-widgets/base",
      "_view_module_version": "1.2.0",
      "_view_name": "StyleView",
      "description_width": ""
     }
    },
    "652e3814437b4c3daaadddb9a0054bdd": {
     "model_module": "@jupyter-widgets/controls",
     "model_module_version": "1.5.0",
     "model_name": "HBoxModel",
     "state": {
      "_dom_classes": [],
      "_model_module": "@jupyter-widgets/controls",
      "_model_module_version": "1.5.0",
      "_model_name": "HBoxModel",
      "_view_count": null,
      "_view_module": "@jupyter-widgets/controls",
      "_view_module_version": "1.5.0",
      "_view_name": "HBoxView",
      "box_style": "",
      "children": [
       "IPY_MODEL_c3fb1474ded54ea8aec27fa6eca62123",
       "IPY_MODEL_758370fee4cd49c19759849d60c02018",
       "IPY_MODEL_3d276ac2aa6f48da92bd87dfc4cac6e9"
      ],
      "layout": "IPY_MODEL_2b9857386eb2499682a0bb4ebcc05f89"
     }
    },
    "758370fee4cd49c19759849d60c02018": {
     "model_module": "@jupyter-widgets/controls",
     "model_module_version": "1.5.0",
     "model_name": "FloatProgressModel",
     "state": {
      "_dom_classes": [],
      "_model_module": "@jupyter-widgets/controls",
      "_model_module_version": "1.5.0",
      "_model_name": "FloatProgressModel",
      "_view_count": null,
      "_view_module": "@jupyter-widgets/controls",
      "_view_module_version": "1.5.0",
      "_view_name": "ProgressView",
      "bar_style": "success",
      "description": "",
      "description_tooltip": null,
      "layout": "IPY_MODEL_4b219f3ce3c441c9a80def7b151299e2",
      "max": 1,
      "min": 0,
      "orientation": "horizontal",
      "style": "IPY_MODEL_dcaeb8a3b14849358507cf584bfc09db",
      "value": 1
     }
    },
    "78ef03f15dc34f31b7f75aab5cbb8c4e": {
     "model_module": "@jupyter-widgets/controls",
     "model_module_version": "1.5.0",
     "model_name": "FloatProgressModel",
     "state": {
      "_dom_classes": [],
      "_model_module": "@jupyter-widgets/controls",
      "_model_module_version": "1.5.0",
      "_model_name": "FloatProgressModel",
      "_view_count": null,
      "_view_module": "@jupyter-widgets/controls",
      "_view_module_version": "1.5.0",
      "_view_name": "ProgressView",
      "bar_style": "success",
      "description": "",
      "description_tooltip": null,
      "layout": "IPY_MODEL_f670937ee79c4bc8b0b8ab55c548ba82",
      "max": 63,
      "min": 0,
      "orientation": "horizontal",
      "style": "IPY_MODEL_015cf8c1e3634c6db3e55abaac5827ff",
      "value": 63
     }
    },
    "79201a3de8a44a76b94cd20a63c5cbb6": {
     "model_module": "@jupyter-widgets/base",
     "model_module_version": "1.2.0",
     "model_name": "LayoutModel",
     "state": {
      "_model_module": "@jupyter-widgets/base",
      "_model_module_version": "1.2.0",
      "_model_name": "LayoutModel",
      "_view_count": null,
      "_view_module": "@jupyter-widgets/base",
      "_view_module_version": "1.2.0",
      "_view_name": "LayoutView",
      "align_content": null,
      "align_items": null,
      "align_self": null,
      "border": null,
      "bottom": null,
      "display": null,
      "flex": null,
      "flex_flow": null,
      "grid_area": null,
      "grid_auto_columns": null,
      "grid_auto_flow": null,
      "grid_auto_rows": null,
      "grid_column": null,
      "grid_gap": null,
      "grid_row": null,
      "grid_template_areas": null,
      "grid_template_columns": null,
      "grid_template_rows": null,
      "height": null,
      "justify_content": null,
      "justify_items": null,
      "left": null,
      "margin": null,
      "max_height": null,
      "max_width": null,
      "min_height": null,
      "min_width": null,
      "object_fit": null,
      "object_position": null,
      "order": null,
      "overflow": null,
      "overflow_x": null,
      "overflow_y": null,
      "padding": null,
      "right": null,
      "top": null,
      "visibility": null,
      "width": null
     }
    },
    "7baa9cbab1c044b7a63709c53bb3c8c1": {
     "model_module": "@jupyter-widgets/controls",
     "model_module_version": "1.5.0",
     "model_name": "HBoxModel",
     "state": {
      "_dom_classes": [],
      "_model_module": "@jupyter-widgets/controls",
      "_model_module_version": "1.5.0",
      "_model_name": "HBoxModel",
      "_view_count": null,
      "_view_module": "@jupyter-widgets/controls",
      "_view_module_version": "1.5.0",
      "_view_name": "HBoxView",
      "box_style": "",
      "children": [
       "IPY_MODEL_a2c933e02bfd4f38828c91c3f71c437b",
       "IPY_MODEL_447cf4c6a5fb43588ffebbf54595bea7",
       "IPY_MODEL_82b8d12da415466ab27e978d62b2ef09"
      ],
      "layout": "IPY_MODEL_43c3e1d6c8cd466bba1edc9ecee3f885"
     }
    },
    "7c51968109ef46d5a0047bf873427f4d": {
     "model_module": "@jupyter-widgets/controls",
     "model_module_version": "1.5.0",
     "model_name": "HBoxModel",
     "state": {
      "_dom_classes": [],
      "_model_module": "@jupyter-widgets/controls",
      "_model_module_version": "1.5.0",
      "_model_name": "HBoxModel",
      "_view_count": null,
      "_view_module": "@jupyter-widgets/controls",
      "_view_module_version": "1.5.0",
      "_view_name": "HBoxView",
      "box_style": "",
      "children": [
       "IPY_MODEL_fc7eeaf2cab144d48fd37ec008c8c0df",
       "IPY_MODEL_5eaff843e13a4c08b4d79261f33333b1",
       "IPY_MODEL_57ad7b35ab4841718ee4c68bba3e827d"
      ],
      "layout": "IPY_MODEL_c2f40372b9224cf780125b82f9149d9a"
     }
    },
    "82b8d12da415466ab27e978d62b2ef09": {
     "model_module": "@jupyter-widgets/controls",
     "model_module_version": "1.5.0",
     "model_name": "HTMLModel",
     "state": {
      "_dom_classes": [],
      "_model_module": "@jupyter-widgets/controls",
      "_model_module_version": "1.5.0",
      "_model_name": "HTMLModel",
      "_view_count": null,
      "_view_module": "@jupyter-widgets/controls",
      "_view_module_version": "1.5.0",
      "_view_name": "HTMLView",
      "description": "",
      "description_tooltip": null,
      "layout": "IPY_MODEL_89d8461d1621459abc12999e2b9e38a9",
      "placeholder": "​",
      "style": "IPY_MODEL_d9c7b89c5d1a4ecfab66be20e9b73252",
      "value": " 1/1 [00:19&lt;00:00, 19.92s/it]"
     }
    },
    "85cee14f15b24904bbfb1edf2fa0052e": {
     "model_module": "@jupyter-widgets/controls",
     "model_module_version": "1.5.0",
     "model_name": "HBoxModel",
     "state": {
      "_dom_classes": [],
      "_model_module": "@jupyter-widgets/controls",
      "_model_module_version": "1.5.0",
      "_model_name": "HBoxModel",
      "_view_count": null,
      "_view_module": "@jupyter-widgets/controls",
      "_view_module_version": "1.5.0",
      "_view_name": "HBoxView",
      "box_style": "",
      "children": [
       "IPY_MODEL_20fd4199bbe34c29bd954bc17fba491a",
       "IPY_MODEL_78ef03f15dc34f31b7f75aab5cbb8c4e",
       "IPY_MODEL_574bb64dc28841bdb0386fe491dd3d9b"
      ],
      "layout": "IPY_MODEL_9d2e5159fa4d4ac696917d517b86598c"
     }
    },
    "877b9224bf924637850386e824448ea7": {
     "model_module": "@jupyter-widgets/controls",
     "model_module_version": "1.5.0",
     "model_name": "DescriptionStyleModel",
     "state": {
      "_model_module": "@jupyter-widgets/controls",
      "_model_module_version": "1.5.0",
      "_model_name": "DescriptionStyleModel",
      "_view_count": null,
      "_view_module": "@jupyter-widgets/base",
      "_view_module_version": "1.2.0",
      "_view_name": "StyleView",
      "description_width": ""
     }
    },
    "89d8461d1621459abc12999e2b9e38a9": {
     "model_module": "@jupyter-widgets/base",
     "model_module_version": "1.2.0",
     "model_name": "LayoutModel",
     "state": {
      "_model_module": "@jupyter-widgets/base",
      "_model_module_version": "1.2.0",
      "_model_name": "LayoutModel",
      "_view_count": null,
      "_view_module": "@jupyter-widgets/base",
      "_view_module_version": "1.2.0",
      "_view_name": "LayoutView",
      "align_content": null,
      "align_items": null,
      "align_self": null,
      "border": null,
      "bottom": null,
      "display": null,
      "flex": null,
      "flex_flow": null,
      "grid_area": null,
      "grid_auto_columns": null,
      "grid_auto_flow": null,
      "grid_auto_rows": null,
      "grid_column": null,
      "grid_gap": null,
      "grid_row": null,
      "grid_template_areas": null,
      "grid_template_columns": null,
      "grid_template_rows": null,
      "height": null,
      "justify_content": null,
      "justify_items": null,
      "left": null,
      "margin": null,
      "max_height": null,
      "max_width": null,
      "min_height": null,
      "min_width": null,
      "object_fit": null,
      "object_position": null,
      "order": null,
      "overflow": null,
      "overflow_x": null,
      "overflow_y": null,
      "padding": null,
      "right": null,
      "top": null,
      "visibility": null,
      "width": null
     }
    },
    "9619caee5c944c018eb62b22dd31b7e9": {
     "model_module": "@jupyter-widgets/controls",
     "model_module_version": "1.5.0",
     "model_name": "DescriptionStyleModel",
     "state": {
      "_model_module": "@jupyter-widgets/controls",
      "_model_module_version": "1.5.0",
      "_model_name": "DescriptionStyleModel",
      "_view_count": null,
      "_view_module": "@jupyter-widgets/base",
      "_view_module_version": "1.2.0",
      "_view_name": "StyleView",
      "description_width": ""
     }
    },
    "99cb7a12f62044f19853e829af8ebb81": {
     "model_module": "@jupyter-widgets/controls",
     "model_module_version": "1.5.0",
     "model_name": "DescriptionStyleModel",
     "state": {
      "_model_module": "@jupyter-widgets/controls",
      "_model_module_version": "1.5.0",
      "_model_name": "DescriptionStyleModel",
      "_view_count": null,
      "_view_module": "@jupyter-widgets/base",
      "_view_module_version": "1.2.0",
      "_view_name": "StyleView",
      "description_width": ""
     }
    },
    "9d2e5159fa4d4ac696917d517b86598c": {
     "model_module": "@jupyter-widgets/base",
     "model_module_version": "1.2.0",
     "model_name": "LayoutModel",
     "state": {
      "_model_module": "@jupyter-widgets/base",
      "_model_module_version": "1.2.0",
      "_model_name": "LayoutModel",
      "_view_count": null,
      "_view_module": "@jupyter-widgets/base",
      "_view_module_version": "1.2.0",
      "_view_name": "LayoutView",
      "align_content": null,
      "align_items": null,
      "align_self": null,
      "border": null,
      "bottom": null,
      "display": null,
      "flex": null,
      "flex_flow": null,
      "grid_area": null,
      "grid_auto_columns": null,
      "grid_auto_flow": null,
      "grid_auto_rows": null,
      "grid_column": null,
      "grid_gap": null,
      "grid_row": null,
      "grid_template_areas": null,
      "grid_template_columns": null,
      "grid_template_rows": null,
      "height": null,
      "justify_content": null,
      "justify_items": null,
      "left": null,
      "margin": null,
      "max_height": null,
      "max_width": null,
      "min_height": null,
      "min_width": null,
      "object_fit": null,
      "object_position": null,
      "order": null,
      "overflow": null,
      "overflow_x": null,
      "overflow_y": null,
      "padding": null,
      "right": null,
      "top": null,
      "visibility": null,
      "width": null
     }
    },
    "a2c933e02bfd4f38828c91c3f71c437b": {
     "model_module": "@jupyter-widgets/controls",
     "model_module_version": "1.5.0",
     "model_name": "HTMLModel",
     "state": {
      "_dom_classes": [],
      "_model_module": "@jupyter-widgets/controls",
      "_model_module_version": "1.5.0",
      "_model_name": "HTMLModel",
      "_view_count": null,
      "_view_module": "@jupyter-widgets/controls",
      "_view_module_version": "1.5.0",
      "_view_name": "HTMLView",
      "description": "",
      "description_tooltip": null,
      "layout": "IPY_MODEL_350cf969010040649a2c93e857212293",
      "placeholder": "​",
      "style": "IPY_MODEL_e63edaf0222842278deb1a6b67a0552b",
      "value": "Generate report structure: 100%"
     }
    },
    "c2f40372b9224cf780125b82f9149d9a": {
     "model_module": "@jupyter-widgets/base",
     "model_module_version": "1.2.0",
     "model_name": "LayoutModel",
     "state": {
      "_model_module": "@jupyter-widgets/base",
      "_model_module_version": "1.2.0",
      "_model_name": "LayoutModel",
      "_view_count": null,
      "_view_module": "@jupyter-widgets/base",
      "_view_module_version": "1.2.0",
      "_view_name": "LayoutView",
      "align_content": null,
      "align_items": null,
      "align_self": null,
      "border": null,
      "bottom": null,
      "display": null,
      "flex": null,
      "flex_flow": null,
      "grid_area": null,
      "grid_auto_columns": null,
      "grid_auto_flow": null,
      "grid_auto_rows": null,
      "grid_column": null,
      "grid_gap": null,
      "grid_row": null,
      "grid_template_areas": null,
      "grid_template_columns": null,
      "grid_template_rows": null,
      "height": null,
      "justify_content": null,
      "justify_items": null,
      "left": null,
      "margin": null,
      "max_height": null,
      "max_width": null,
      "min_height": null,
      "min_width": null,
      "object_fit": null,
      "object_position": null,
      "order": null,
      "overflow": null,
      "overflow_x": null,
      "overflow_y": null,
      "padding": null,
      "right": null,
      "top": null,
      "visibility": null,
      "width": null
     }
    },
    "c3fb1474ded54ea8aec27fa6eca62123": {
     "model_module": "@jupyter-widgets/controls",
     "model_module_version": "1.5.0",
     "model_name": "HTMLModel",
     "state": {
      "_dom_classes": [],
      "_model_module": "@jupyter-widgets/controls",
      "_model_module_version": "1.5.0",
      "_model_name": "HTMLModel",
      "_view_count": null,
      "_view_module": "@jupyter-widgets/controls",
      "_view_module_version": "1.5.0",
      "_view_name": "HTMLView",
      "description": "",
      "description_tooltip": null,
      "layout": "IPY_MODEL_df632e28ec554fa5be59a29146aa4e33",
      "placeholder": "​",
      "style": "IPY_MODEL_63e275b2ae3e4ae1b04d3d34243843c9",
      "value": "Render HTML: 100%"
     }
    },
    "d9c7b89c5d1a4ecfab66be20e9b73252": {
     "model_module": "@jupyter-widgets/controls",
     "model_module_version": "1.5.0",
     "model_name": "DescriptionStyleModel",
     "state": {
      "_model_module": "@jupyter-widgets/controls",
      "_model_module_version": "1.5.0",
      "_model_name": "DescriptionStyleModel",
      "_view_count": null,
      "_view_module": "@jupyter-widgets/base",
      "_view_module_version": "1.2.0",
      "_view_name": "StyleView",
      "description_width": ""
     }
    },
    "dcaeb8a3b14849358507cf584bfc09db": {
     "model_module": "@jupyter-widgets/controls",
     "model_module_version": "1.5.0",
     "model_name": "ProgressStyleModel",
     "state": {
      "_model_module": "@jupyter-widgets/controls",
      "_model_module_version": "1.5.0",
      "_model_name": "ProgressStyleModel",
      "_view_count": null,
      "_view_module": "@jupyter-widgets/base",
      "_view_module_version": "1.2.0",
      "_view_name": "StyleView",
      "bar_color": null,
      "description_width": ""
     }
    },
    "df632e28ec554fa5be59a29146aa4e33": {
     "model_module": "@jupyter-widgets/base",
     "model_module_version": "1.2.0",
     "model_name": "LayoutModel",
     "state": {
      "_model_module": "@jupyter-widgets/base",
      "_model_module_version": "1.2.0",
      "_model_name": "LayoutModel",
      "_view_count": null,
      "_view_module": "@jupyter-widgets/base",
      "_view_module_version": "1.2.0",
      "_view_name": "LayoutView",
      "align_content": null,
      "align_items": null,
      "align_self": null,
      "border": null,
      "bottom": null,
      "display": null,
      "flex": null,
      "flex_flow": null,
      "grid_area": null,
      "grid_auto_columns": null,
      "grid_auto_flow": null,
      "grid_auto_rows": null,
      "grid_column": null,
      "grid_gap": null,
      "grid_row": null,
      "grid_template_areas": null,
      "grid_template_columns": null,
      "grid_template_rows": null,
      "height": null,
      "justify_content": null,
      "justify_items": null,
      "left": null,
      "margin": null,
      "max_height": null,
      "max_width": null,
      "min_height": null,
      "min_width": null,
      "object_fit": null,
      "object_position": null,
      "order": null,
      "overflow": null,
      "overflow_x": null,
      "overflow_y": null,
      "padding": null,
      "right": null,
      "top": null,
      "visibility": null,
      "width": null
     }
    },
    "e63edaf0222842278deb1a6b67a0552b": {
     "model_module": "@jupyter-widgets/controls",
     "model_module_version": "1.5.0",
     "model_name": "DescriptionStyleModel",
     "state": {
      "_model_module": "@jupyter-widgets/controls",
      "_model_module_version": "1.5.0",
      "_model_name": "DescriptionStyleModel",
      "_view_count": null,
      "_view_module": "@jupyter-widgets/base",
      "_view_module_version": "1.2.0",
      "_view_name": "StyleView",
      "description_width": ""
     }
    },
    "f008246ad7c94d7fac05874485c749ba": {
     "model_module": "@jupyter-widgets/base",
     "model_module_version": "1.2.0",
     "model_name": "LayoutModel",
     "state": {
      "_model_module": "@jupyter-widgets/base",
      "_model_module_version": "1.2.0",
      "_model_name": "LayoutModel",
      "_view_count": null,
      "_view_module": "@jupyter-widgets/base",
      "_view_module_version": "1.2.0",
      "_view_name": "LayoutView",
      "align_content": null,
      "align_items": null,
      "align_self": null,
      "border": null,
      "bottom": null,
      "display": null,
      "flex": null,
      "flex_flow": null,
      "grid_area": null,
      "grid_auto_columns": null,
      "grid_auto_flow": null,
      "grid_auto_rows": null,
      "grid_column": null,
      "grid_gap": null,
      "grid_row": null,
      "grid_template_areas": null,
      "grid_template_columns": null,
      "grid_template_rows": null,
      "height": null,
      "justify_content": null,
      "justify_items": null,
      "left": null,
      "margin": null,
      "max_height": null,
      "max_width": null,
      "min_height": null,
      "min_width": null,
      "object_fit": null,
      "object_position": null,
      "order": null,
      "overflow": null,
      "overflow_x": null,
      "overflow_y": null,
      "padding": null,
      "right": null,
      "top": null,
      "visibility": null,
      "width": null
     }
    },
    "f5531f20fb2c41369d0e11d36f3087d0": {
     "model_module": "@jupyter-widgets/base",
     "model_module_version": "1.2.0",
     "model_name": "LayoutModel",
     "state": {
      "_model_module": "@jupyter-widgets/base",
      "_model_module_version": "1.2.0",
      "_model_name": "LayoutModel",
      "_view_count": null,
      "_view_module": "@jupyter-widgets/base",
      "_view_module_version": "1.2.0",
      "_view_name": "LayoutView",
      "align_content": null,
      "align_items": null,
      "align_self": null,
      "border": null,
      "bottom": null,
      "display": null,
      "flex": null,
      "flex_flow": null,
      "grid_area": null,
      "grid_auto_columns": null,
      "grid_auto_flow": null,
      "grid_auto_rows": null,
      "grid_column": null,
      "grid_gap": null,
      "grid_row": null,
      "grid_template_areas": null,
      "grid_template_columns": null,
      "grid_template_rows": null,
      "height": null,
      "justify_content": null,
      "justify_items": null,
      "left": null,
      "margin": null,
      "max_height": null,
      "max_width": null,
      "min_height": null,
      "min_width": null,
      "object_fit": null,
      "object_position": null,
      "order": null,
      "overflow": null,
      "overflow_x": null,
      "overflow_y": null,
      "padding": null,
      "right": null,
      "top": null,
      "visibility": null,
      "width": null
     }
    },
    "f670937ee79c4bc8b0b8ab55c548ba82": {
     "model_module": "@jupyter-widgets/base",
     "model_module_version": "1.2.0",
     "model_name": "LayoutModel",
     "state": {
      "_model_module": "@jupyter-widgets/base",
      "_model_module_version": "1.2.0",
      "_model_name": "LayoutModel",
      "_view_count": null,
      "_view_module": "@jupyter-widgets/base",
      "_view_module_version": "1.2.0",
      "_view_name": "LayoutView",
      "align_content": null,
      "align_items": null,
      "align_self": null,
      "border": null,
      "bottom": null,
      "display": null,
      "flex": null,
      "flex_flow": null,
      "grid_area": null,
      "grid_auto_columns": null,
      "grid_auto_flow": null,
      "grid_auto_rows": null,
      "grid_column": null,
      "grid_gap": null,
      "grid_row": null,
      "grid_template_areas": null,
      "grid_template_columns": null,
      "grid_template_rows": null,
      "height": null,
      "justify_content": null,
      "justify_items": null,
      "left": null,
      "margin": null,
      "max_height": null,
      "max_width": null,
      "min_height": null,
      "min_width": null,
      "object_fit": null,
      "object_position": null,
      "order": null,
      "overflow": null,
      "overflow_x": null,
      "overflow_y": null,
      "padding": null,
      "right": null,
      "top": null,
      "visibility": null,
      "width": null
     }
    },
    "fc7eeaf2cab144d48fd37ec008c8c0df": {
     "model_module": "@jupyter-widgets/controls",
     "model_module_version": "1.5.0",
     "model_name": "HTMLModel",
     "state": {
      "_dom_classes": [],
      "_model_module": "@jupyter-widgets/controls",
      "_model_module_version": "1.5.0",
      "_model_name": "HTMLModel",
      "_view_count": null,
      "_view_module": "@jupyter-widgets/controls",
      "_view_module_version": "1.5.0",
      "_view_name": "HTMLView",
      "description": "",
      "description_tooltip": null,
      "layout": "IPY_MODEL_0c4e3ecd97894af9999fb69dc26d6d66",
      "placeholder": "​",
      "style": "IPY_MODEL_2e121f190b6642458ee33982fb078df1",
      "value": "Export report to file: 100%"
     }
    }
   }
  }
 },
 "nbformat": 4,
 "nbformat_minor": 1
}
